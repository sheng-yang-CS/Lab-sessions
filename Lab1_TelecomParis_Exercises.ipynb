{
 "cells": [
  {
   "cell_type": "markdown",
   "id": "a9fec97d",
   "metadata": {},
   "source": [
    "# Ex 1: Non-coherent SIMO channel"
   ]
  },
  {
   "cell_type": "markdown",
   "id": "66781d4d",
   "metadata": {},
   "source": [
    "Consider a SIMO channel with $n_r$ receive antennas. The capacity is upper bounded by \n",
    "$$ C\\leq \\inf_{\\alpha>0}\\  ({\\alpha-n_r}) + \\log {\\Gamma(\\alpha) \\over\n",
    "  \\Gamma(n_r)} - \\alpha \\log {\\alpha\\over n_r} \n",
    "+ (n_r-\\alpha) \\psi(n_r) + \\alpha  \\log(1+P). \n",
    "$$\n",
    "where $\\Gamma(s)$ is the gamma function and $\\psi(s)$ is the digamma function. This exercise aims to compute this upper bound. "
   ]
  },
  {
   "cell_type": "markdown",
   "id": "9362b5b6",
   "metadata": {},
   "source": [
    "You can use the following header to load the packages needed. "
   ]
  },
  {
   "cell_type": "code",
   "execution_count": 86,
   "id": "9029f9d7",
   "metadata": {},
   "outputs": [],
   "source": [
    "import numpy as np\n",
    "import matplotlib.pyplot as plt\n",
    "# The digamma function and log Gamma function\n",
    "from scipy.special import psi, gammaln\n",
    "from scipy.optimize import minimize_scalar"
   ]
  },
  {
   "cell_type": "markdown",
   "id": "90ee7efa",
   "metadata": {},
   "source": [
    "### Define the objective function "
   ]
  },
  {
   "cell_type": "code",
   "execution_count": 87,
   "id": "587cdd37",
   "metadata": {},
   "outputs": [],
   "source": [
    "def F(alpha, nr, P):\n",
    "\n",
    "    return \"\"\"\"\"\"\""
   ]
  },
  {
   "cell_type": "markdown",
   "id": "aa21a2a7",
   "metadata": {},
   "source": [
    "### Find the minimum value "
   ]
  },
  {
   "cell_type": "markdown",
   "id": "e7dbcbef",
   "metadata": {},
   "source": [
    "Use any optimization tool to find the minimum value over $\\alpha>0$. For instance, you can use the $\\texttt{minimize_scalar}$ function. "
   ]
  },
  {
   "cell_type": "code",
   "execution_count": 88,
   "id": "206798af",
   "metadata": {},
   "outputs": [],
   "source": [
    "def find_minimum_F(nr, P):\n",
    "    \"\"\"\"\"\"\"\"\"\"\"\"\"\"\n",
    "    return opt_x, opt_val\n"
   ]
  },
  {
   "cell_type": "markdown",
   "id": "d285ff9e",
   "metadata": {},
   "source": [
    "### Compute the bounds for different values of $P$"
   ]
  },
  {
   "cell_type": "markdown",
   "id": "13141c30",
   "metadata": {},
   "source": [
    "Set $n_r=10$. Compute the capacity upper bound for $P = 0, 5, 10, ..., 30$dB. Plot the bound versus $P$ in dB."
   ]
  },
  {
   "cell_type": "code",
   "execution_count": null,
   "id": "28413462",
   "metadata": {},
   "outputs": [],
   "source": [
    "\n",
    "# Choose a range of V values. Here we use 200 points between 1 and 1000.\n",
    "nr = 100\n",
    "P_vals_dB = np.linspace(0, 30, 20)\n",
    "alpha_opt = []\n",
    "F_min = []\n",
    "\n",
    "for P_dB in P_vals_dB:\n",
    "    P = 10**(P_dB/10)\n",
    "    a_star, F_star = find_minimum_F(nr, P)\n",
    "    alpha_opt.append(a_star)\n",
    "    F_min.append(F_star)\n",
    "\n",
    "# Plot the minimal value F_min as a function of V\n",
    "\"\"\"\"\"\"\"\n"
   ]
  },
  {
   "cell_type": "markdown",
   "id": "74efba19",
   "metadata": {},
   "source": [
    "### Compute the bounds for different values of $n_r$"
   ]
  },
  {
   "cell_type": "markdown",
   "id": "ca86c824",
   "metadata": {},
   "source": [
    "Set $P=20$ dB. Compute and plot the capacity upper bound for $n_r = 1, 10, 50, 100$. "
   ]
  },
  {
   "cell_type": "markdown",
   "id": "7232e42e",
   "metadata": {},
   "source": [
    "# Ex 2: SIMO with 1-bit ADC"
   ]
  },
  {
   "cell_type": "markdown",
   "id": "97f99a7c",
   "metadata": {},
   "source": [
    "Let us consider a real SIMO channel with $n_r$ receive antennas. Each channel output is $Y_i = \\mathrm{sign}(X+Z_i)$ where $Z_i \\sim \\mathcal{N}(0, \\sigma^2)$, $i=1,\\ldots,n_r$, are i.i.d. Gaussian noise. The input $X$ is from a standard $M$-PAM constellation, i.e., $\\mathcal{X}_M := \\{-M+1, -M+3, ..., M-3, M-1\\}$. We know that the sufficient statistics of the output for $X$ is the number of $1$'s~(or $-1$'s) among the outputs. Let us call it $T(Y)$. \n",
    "\n",
    "Therefore, the channel capacity is \n",
    "$$ C = \\max_{P_X} I(P_X, P_{Y|X}) = \\max_{P_X} I(P_X, P_{T|X}) $$\n",
    "\n",
    "In this exercise, we compute the capacity using the Blahut-Arimoto algorithm."
   ]
  },
  {
   "cell_type": "markdown",
   "id": "ebc77e16",
   "metadata": {},
   "source": [
    "You can use the following headers. "
   ]
  },
  {
   "cell_type": "code",
   "execution_count": 102,
   "id": "0dd3fc20",
   "metadata": {},
   "outputs": [],
   "source": [
    "import numpy as np\n",
    "import matplotlib.pyplot as plt\n",
    "from scipy.special import comb, erfc\n",
    "\n",
    "# ---------------------------\n",
    "# Helper Functions\n",
    "# ---------------------------\n",
    "def Q(x):\n",
    "    \"\"\"Normal Q function: Q(x)=0.5*erfc(x/sqrt(2)).\"\"\"\n",
    "    return 0.5 * erfc(x / np.sqrt(2))"
   ]
  },
  {
   "cell_type": "markdown",
   "id": "30499a6f",
   "metadata": {},
   "source": [
    "### Build the transition probability matrix $W$"
   ]
  },
  {
   "cell_type": "code",
   "execution_count": 103,
   "id": "47b5ba57",
   "metadata": {},
   "outputs": [],
   "source": [
    "def build_channel_matrix(x_vals, nr, sigma):\n",
    "    \"\"\"\n",
    "    Given a vector of constellation points x_vals (length M), number of outputs nr, and noise variance\n",
    "    build the transition probability matrix W of shape (M, n+1) defined by:\n",
    "      W[m, k] = P(k | x_vals[m])\n",
    "    \"\"\"\n",
    "    M = len(x_vals)\n",
    "    W = np.zeros((M, nr+1))\n",
    "    for m in range(M):\n",
    "        \"\"\"\"\"\"\n",
    "        for k in range(nr+1):\n",
    "            W[m, k] = \"\"\"\"\"\"\"\n",
    "    return W"
   ]
  },
  {
   "cell_type": "markdown",
   "id": "6220334e",
   "metadata": {},
   "source": [
    "### The Blahut-Arimoto algorithm is given below. "
   ]
  },
  {
   "cell_type": "code",
   "execution_count": 104,
   "id": "a28aa5ae",
   "metadata": {},
   "outputs": [],
   "source": [
    "def blahut_arimoto(W, tol=1e-8, max_iter=1000):\n",
    "    \"\"\"\n",
    "    Standard Blahut-Arimoto algorithm for a discrete memoryless channel with channel matrix W.\n",
    "    W is of shape (M, K) (here K = n+1).\n",
    "    \n",
    "    Returns:\n",
    "      capacity_nats: the channel capacity in nats.\n",
    "      p_opt: the optimizing input distribution (length M).\n",
    "    \"\"\"\n",
    "    M, K = W.shape\n",
    "    # initialize p uniformly\n",
    "    p = np.ones(M) / M\n",
    "    \n",
    "    for iteration in range(max_iter):\n",
    "        # Compute the output distribution q(k)\n",
    "        q = np.dot(p, W)  # shape (K,)        \n",
    "\n",
    "        # Assume W is an array of shape (M, K) and q is of shape (K,)\n",
    "        epsilon = 1e-15  # a small constant to avoid division by zero\n",
    "\n",
    "        # For each input symbol m, compute D[m] safely:\n",
    "        D = np.zeros(M)\n",
    "        for m in range(M):\n",
    "            with np.errstate(divide='ignore', invalid='ignore'):\n",
    "                # Compute the ratio; add epsilon to q to avoid division by exact zero.\n",
    "                ratio = W[m, :] / (q + epsilon)\n",
    "                # Only compute the log for entries where W[m, :] > 0; set others to 0.\n",
    "                log_term = np.where(W[m, :] > 0, np.log(ratio), 0.0)\n",
    "                # Multiply by W[m, :] (0 * log_term is 0 as desired)\n",
    "                D[m] = np.sum(W[m, :] * log_term)\n",
    "                    \n",
    "        # Update rule: p_new(m) ∝ exp(D(m))\n",
    "        p_new = np.exp(D)\n",
    "        p_new = p_new / np.sum(p_new)\n",
    "        \n",
    "        if np.linalg.norm(p_new - p, 1) < tol:\n",
    "            p = p_new\n",
    "            break\n",
    "        p = p_new\n",
    "        \n",
    "    # The capacity is then I = \\sum_m p(m) D(m)\n",
    "    capacity_nats = np.sum(p * D)\n",
    "    return capacity_nats, p"
   ]
  },
  {
   "cell_type": "markdown",
   "id": "818ae8d8",
   "metadata": {},
   "source": [
    "### Compute the capacity for a given $M$, $n_r$, and $\\sigma$"
   ]
  },
  {
   "cell_type": "code",
   "execution_count": 105,
   "id": "19cc3caa",
   "metadata": {},
   "outputs": [],
   "source": [
    "def comp_capacity(M, nr, sigma):\n",
    "    \"\"\"\n",
    "    For a given M-PAM constellation (with M points), a number of outputs nr, and noise standard deviation sigma\n",
    "    compute the channel capacity (maximized over input distributions) for the channel \n",
    "    \n",
    "    Returns:\n",
    "      capacity_bits: Capacity in bits.\n",
    "    \"\"\"\n",
    "    # Define a standard M-PAM constellation.\n",
    "    # One common choice is to take equally spaced points symmetric about zero.\n",
    "    # For example, for M=4 we use [-3, -1, 1, 3].\n",
    "    # Here we choose: x_vals = {-(M-1), -(M-3), ..., M-3, M-1}.\n",
    "    x_vals = \"\"\"\"\"\"\n",
    "    \n",
    "    capacity_bits = []\n",
    "    \n",
    "    # Build the channel matrix \n",
    "    W = \"\"\"\"\"\"\n",
    "    # Run Blahut-Arimoto to compute capacity (in nats)\n",
    "    capacity_nats, p_opt = \"\"\"\"\"\"\n",
    "    # Convert capacity from nats to bits\n",
    "    capacity_bits = \"\"\"\"\"\"\n",
    "        \n",
    "    return capacity_bits\n",
    "\n"
   ]
  },
  {
   "cell_type": "markdown",
   "id": "1bf9dc30",
   "metadata": {},
   "source": [
    "### Run the simulation"
   ]
  },
  {
   "cell_type": "markdown",
   "id": "b8284241",
   "metadata": {},
   "source": [
    "Let $n_r = [1, 10, 20, ..., 100]$, $M = [2, 4, 8]$, $\\sigma = 2$. Plot the capacity versus $n_r$, for different values of $M$. "
   ]
  },
  {
   "cell_type": "code",
   "execution_count": null,
   "id": "87905090",
   "metadata": {},
   "outputs": [],
   "source": [
    "# ---------------------------\n",
    "# Plotting: Vary n vs. Capacity for different values of M.\n",
    "# ---------------------------\n",
    "n_values = np.arange(1, 100, 10)  # Let's take nr from 1 to 100.\n",
    "M_list = [4, 6, 8]         # Consider several constellation sizes.\n",
    "sigma = 2\n",
    "\n",
    "\n",
    "\"\"\"\"\"\"\"\"\"\""
   ]
  }
 ],
 "metadata": {
  "kernelspec": {
   "display_name": "Python 3 (ipykernel)",
   "language": "python",
   "name": "python3"
  },
  "language_info": {
   "codemirror_mode": {
    "name": "ipython",
    "version": 3
   },
   "file_extension": ".py",
   "mimetype": "text/x-python",
   "name": "python",
   "nbconvert_exporter": "python",
   "pygments_lexer": "ipython3",
   "version": "3.8.6"
  }
 },
 "nbformat": 4,
 "nbformat_minor": 5
}
