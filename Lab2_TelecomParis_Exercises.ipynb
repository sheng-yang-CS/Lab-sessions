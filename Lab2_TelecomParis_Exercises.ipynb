{
 "cells": [
  {
   "cell_type": "markdown",
   "id": "d9780737",
   "metadata": {},
   "source": [
    "# Ex 1: Conventional MIMO channel"
   ]
  },
  {
   "cell_type": "markdown",
   "id": "8e4fedaa",
   "metadata": {},
   "source": [
    "You can use the following header to load the packages needed. "
   ]
  },
  {
   "cell_type": "code",
   "execution_count": 182,
   "id": "40c711bf",
   "metadata": {},
   "outputs": [],
   "source": [
    "import numpy as np\n",
    "import time\n",
    "import matplotlib.pyplot as plt\n",
    "from scipy.linalg import qr\n",
    "from numpy.linalg import inv, norm\n",
    "from scipy.stats import norm as normpdf"
   ]
  },
  {
   "cell_type": "markdown",
   "id": "4175aaea",
   "metadata": {},
   "source": [
    "### Implement the zero-forcing (ZF) detector"
   ]
  },
  {
   "cell_type": "code",
   "execution_count": 22,
   "id": "d21db063",
   "metadata": {},
   "outputs": [],
   "source": [
    "# =============================================================================\n",
    "# Zero-Forcing (ZF) Detector\n",
    "# =============================================================================\n",
    "def zf_detector(y, H, constellation):\n",
    "    \"\"\"\n",
    "    Zero-forcing detector:\n",
    "      - Compute LS solution: x_ls = (H^H H)^{-1} H^H y.\n",
    "      - Then round each entry to the closest constellation point.\n",
    "      \n",
    "    Parameters:\n",
    "      y : Received vector (complex, shape (nr,))\n",
    "      H : Channel matrix (complex, shape (nr, nt))\n",
    "      constellation : 1D numpy array of constellation points\n",
    "      \n",
    "    Returns:\n",
    "      x_hat : Detected transmit vector (complex, shape (nt,))\n",
    "    \"\"\"\n",
    "    x_ls = \"\"\"\"\"\"\"\"\n",
    "    \n",
    "    # Round each entry to the nearest constellation point\n",
    "    x_hat = np.array([constellation[np.argmin(np.abs(x - constellation))]\n",
    "                      for x in x_ls])\n",
    "    \n",
    "    return x_hat\n"
   ]
  },
  {
   "cell_type": "markdown",
   "id": "6a1fefd5",
   "metadata": {},
   "source": [
    "### Implement the sphere decoder (SD)"
   ]
  },
  {
   "cell_type": "code",
   "execution_count": 91,
   "id": "3673bfd1",
   "metadata": {},
   "outputs": [],
   "source": [
    "# =============================================================================\n",
    "# Sphere-Decoding (SD) Detector\n",
    "# =============================================================================\n",
    "def sphere_decoding(y, H, constellation, rho=None):\n",
    "    \"\"\"\n",
    "    Sphere Decoding detector:\n",
    "      Preprocess:\n",
    "        1. Compute a permutation matrix P that reverses the order of entries.\n",
    "        2. Compute the QR decomposition of H @ P, i.e.  Q,R such that H P = Q R.\n",
    "        3. Form L = P R P and s = P (Q^H y). Then, ||y - H x|| = || s - L x||.\n",
    "      \n",
    "      The algorithm then performs a recursive search over the tree of possible\n",
    "      x values (with x drawn from the finite constellation) while pruning paths\n",
    "      whose partial metric exceeds the current radius.\n",
    "      \n",
    "    Parameters:\n",
    "      y : Received vector (complex, shape (nr,))\n",
    "      H : Channel matrix (complex, shape (nr, nt))\n",
    "      constellation : 1D numpy array of constellation points (real)\n",
    "      rho : (Optional) initial radius. If not provided, it is set to the squared\n",
    "            metric of the ZF solution.\n",
    "            \n",
    "    Returns:\n",
    "      best_solution : Detected transmit vector (complex, shape (nt,))\n",
    "      best_metric   : Squared Euclidean metric value of the detected solution.\n",
    "    \"\"\"\n",
    "    nt = H.shape[1]\n",
    "    \n",
    "    # Permutation matrix that reverses the order\n",
    "    P = np.flip(np.eye(nt), axis=0)\n",
    "    # QR decomposition of H @ P\n",
    "    #    Q, R = qr(H @ P, mode='economic')\n",
    "    Q, R = qr(np.flip(H, axis=1), mode='economic')\n",
    "    \n",
    "    # Preprocessing: L = P R P, s = P (Q^H y)\n",
    "    L = P @ R @ P\n",
    "    #L = np.flip(np.flip(R, axis=0), axis=1)\n",
    "    #    s = P @ (Q.conj().T @ y)\n",
    "    s = np.flip(Q.conj().T @ y, axis=0)\n",
    "    \n",
    "    # Define the incremental metric at level k (0-indexed)\n",
    "    def metric_increment(k, x_vec):\n",
    "        \n",
    "        # For level k, compute:\n",
    "        #   alpha = L[k,k] * x_vec[k] - ( s[k] - sum_{j=0}^{k-1} L[k,j]*x_vec[j] )\n",
    "        if k == 0:\n",
    "            return np.abs(L[0,0]*x_vec[0] - s[0])**2\n",
    "        else:\n",
    "            sum_prev = np.dot(L[k, :k], x_vec[:k])\n",
    "            alpha = L[k, k]*x_vec[k] - (s[k] - sum_prev)\n",
    "            return np.abs(alpha)**2\n",
    "        \n",
    "        #return np.abs(np.dot(L[k, :(k+1)], x_vec[:(k+1)]) - s[k])**2\n",
    "        \n",
    "    best_metric = np.inf\n",
    "    best_solution = None\n",
    "    x_candidate = np.zeros(nt, dtype=H.dtype)\n",
    "    \n",
    "    # If no initial radius is provided, initialize using the ZF detector.\n",
    "    if rho is None:\n",
    "        x_zf = \"\"\"\"\"\"\n",
    "        best_metric = \"\"\"\"\"\"\n",
    "        best_solution = x_zf.copy()\n",
    "    else:\n",
    "        best_metric = rho**2\n",
    "\n",
    "    # Recursive sphere decoding search\n",
    "    def rec_sd(k, current_metric):\n",
    "        nonlocal best_metric, best_solution, x_candidate\n",
    "        if k == nt:\n",
    "            # Full candidate reached; update best if necessary\n",
    "            if current_metric < best_metric:\n",
    "                best_metric = current_metric\n",
    "                best_solution = x_candidate.copy()\n",
    "            return\n",
    "        # At level k, use a zero-forcing estimate at that level as a guide:\n",
    "        if np.abs(L[k,k]) > 1e-12:\n",
    "            zf_level = s[k] / L[k,k]\n",
    "        else:\n",
    "            zf_level = 0\n",
    "        # Sort constellation points by proximity to zf_level\n",
    "        cand_sorted = sorted(constellation, key=lambda c: np.abs(c - zf_level))\n",
    "        for cand in cand_sorted:\n",
    "            x_candidate[k] = cand\n",
    "            inc = metric_increment(k, x_candidate)\n",
    "            new_metric = current_metric + inc\n",
    "            if new_metric < best_metric:\n",
    "                rec_sd(k+1, new_metric)\n",
    "\n",
    "    rec_sd(0, 0)\n",
    "    return best_solution, best_metric"
   ]
  },
  {
   "cell_type": "markdown",
   "id": "e3d9bab7",
   "metadata": {},
   "source": [
    "### Run the simulation "
   ]
  },
  {
   "cell_type": "markdown",
   "id": "6ed22321",
   "metadata": {},
   "source": [
    "Generate a M^2-QAM constellation (first generate a PAM constellation) "
   ]
  },
  {
   "cell_type": "code",
   "execution_count": 107,
   "id": "2a8e70f7",
   "metadata": {},
   "outputs": [],
   "source": [
    "def generate_QAM_constellation(M):\n",
    "    PAM_M = \"\"\"\"\"\"\"\n",
    "    constellation = []\n",
    "    for a in PAM_M:\n",
    "        for b in PAM_M:\n",
    "            constellation.append(a + 1j*b)\n",
    "    return np.array(constellation)"
   ]
  },
  {
   "cell_type": "markdown",
   "id": "3cb7ad1a",
   "metadata": {},
   "source": [
    "Configurations of the simulation "
   ]
  },
  {
   "cell_type": "code",
   "execution_count": 112,
   "id": "da00e33d",
   "metadata": {},
   "outputs": [],
   "source": [
    "# For reproducibility / fairness of comparison\n",
    "np.random.seed(0)\n",
    "\n",
    "# System dimensions\n",
    "nt = 4       # number of transmit antennas\n",
    "nr = 4       # number of receive antennas (assume nr >= nt, not needed for SD)\n",
    "\n",
    "# Constellation size is M^2\n",
    "M = 4\n",
    "constellation = generate_QAM_constellation(M)\n",
    "    \n",
    "# SNR values in dB (for 1/σ²): \n",
    "snr_dB_vals = np.arange(0, 15, 3)\n",
    "N = 1000  # Number of Monte Carlo trials per SNR"
   ]
  },
  {
   "cell_type": "code",
   "execution_count": null,
   "id": "c659a5be",
   "metadata": {},
   "outputs": [],
   "source": [
    "###############################################\n",
    "# Simulation: Compare ZF and SD for QAM\n",
    "###############################################\n",
    "error_zf = np.zeros(len(snr_dB_vals))\n",
    "error_sd = np.zeros(len(snr_dB_vals))\n",
    "runtime_zf = np.zeros(len(snr_dB_vals))\n",
    "runtime_sd = np.zeros(len(snr_dB_vals))\n",
    "\n",
    "for idx, snr_db in enumerate(snr_dB_vals):\n",
    "    # SNR_linear = 10^(snr_db/10), noise variance sigma² = 1/SNR_linear.\n",
    "    snr_linear = 10**(snr_db/10)\n",
    "    sigma2 = 1.0 / snr_linear\n",
    "\n",
    "    errors_zf = 0\n",
    "    errors_sd = 0\n",
    "    total_time_zf = 0\n",
    "    total_time_sd = 0\n",
    "\n",
    "    for trial in range(N):\n",
    "        # Generate random complex channel H (CN(0,1) entries)\n",
    "        H = \"\"\"\"\"\"\n",
    "        # Generate transmitted vector x_true from 16-QAM constellation\n",
    "        x_true = np.random.choice(constellation, size=(nt,))\n",
    "        # Generate noise z ~ CN(0, sigma² I)\n",
    "        z = \"\"\"\"\"\"\n",
    "        # Received vector: y = H x_true + z\n",
    "        y = \"\"\"\"\"\"\n",
    "        \n",
    "        # Zero-Forcing Detector\n",
    "        t0 = time.time()\n",
    "        x_hat_zf = \"\"\"\"\"\"\n",
    "        total_time_zf += time.time() - t0\n",
    "        if not np.array_equal(x_hat_zf, x_true):\n",
    "            errors_zf += 1\n",
    "\n",
    "        # Sphere-Decoding Detector\n",
    "        t0 = time.time()\n",
    "        x_hat_sd, _ = \"\"\"\"\"\"\n",
    "        total_time_sd += time.time() - t0\n",
    "        if not np.array_equal(x_hat_sd, x_true):\n",
    "            errors_sd += 1\n",
    "\n",
    "    error_zf[idx] = errors_zf / N\n",
    "    error_sd[idx] = errors_sd / N\n",
    "    runtime_zf[idx] = total_time_zf / N\n",
    "    runtime_sd[idx] = total_time_sd / N\n",
    "\n",
    "    print(\"SNR = {:.1f} dB: ZF error = {:.4f}, SD error = {:.4f}\".format(\n",
    "        snr_db, error_zf[idx], error_sd[idx]))\n",
    "    print(\"          Average runtime: ZF = {:.6f} s, SD = {:.6f} s\".format(\n",
    "        runtime_zf[idx], runtime_sd[idx]))\n",
    "\n",
    "# Plot average vector detection error (semilogy)\n",
    "plt.figure()\n",
    "plt.semilogy(\"\"\"\"\"\")\n",
    "plt.semilogy(\"\"\"\"\"\")\n",
    "plt.xlabel('1/σ² (dB)')\n",
    "plt.ylabel('Average Vector Detection Error')\n",
    "plt.title('Detection Error vs SNR')\n",
    "plt.legend()\n",
    "plt.grid(True, which='both')\n",
    "\n",
    "# Plot average runtime vs SNR\n",
    "plt.figure()\n",
    "plt.semilogy(\"\"\"\"\"\")\n",
    "plt.semilogy(\"\"\"\"\"\")\n",
    "plt.xlabel('1/σ² (dB)')\n",
    "plt.ylabel('Average Runtime (s)')\n",
    "plt.title('Runtime vs SNR')\n",
    "plt.legend()\n",
    "plt.grid(True)\n",
    "\n",
    "plt.show()\n"
   ]
  },
  {
   "cell_type": "markdown",
   "id": "6a6bc3f3",
   "metadata": {},
   "source": [
    "# Ex2: MIMO with one-bit ADC"
   ]
  },
  {
   "cell_type": "markdown",
   "id": "4db1dd0a",
   "metadata": {},
   "source": [
    "Now, let us consider the case with \n",
    "$$\\mathbf{y} = \\mathrm{sign}(\\mathbf{H} \\mathbf{x} + \\mathbf{z})$$\n",
    "where $\\mathbf{z}$ is i.i.d. $\\mathcal{N}(0,\\sigma^2)$ and $\\mathbf{x}$ is a vector of $M$-PAM symbols. "
   ]
  },
  {
   "cell_type": "markdown",
   "id": "789c2497",
   "metadata": {},
   "source": [
    "You may need the following headers. "
   ]
  },
  {
   "cell_type": "code",
   "execution_count": 175,
   "id": "bde90594",
   "metadata": {},
   "outputs": [],
   "source": [
    "import numpy as np\n",
    "import time\n",
    "import matplotlib.pyplot as plt\n",
    "from numpy.linalg import norm, inv, cholesky\n",
    "from scipy.optimize import minimize\n",
    "from scipy.stats import norm as normpdf"
   ]
  },
  {
   "cell_type": "markdown",
   "id": "b205970a",
   "metadata": {},
   "source": [
    "### Define the objective function, gradient, and Hessian"
   ]
  },
  {
   "cell_type": "code",
   "execution_count": 176,
   "id": "aeea54d5",
   "metadata": {},
   "outputs": [],
   "source": [
    "###############################################\n",
    "# One-Bit ADC Negative Log-Likelihood and Derivatives\n",
    "###############################################\n",
    "\n",
    "def Q_func(u):\n",
    "    # Q(u) = 1 - Phi(u)\n",
    "    return normpdf.sf(u)\n",
    "\n",
    "def f_func(x, H, y, sigma):\n",
    "    # x: real vector (n_t,), H: (n_r x n_t), y: (n_r,) with y_i in {-1,1}, sigma: positive real\n",
    "    # f(x) = - sum_{i=1}^{n_r} log( Q( - y_i * (h_i^T x) / sigma ) )\n",
    "    # where h_i^T is the i-th row of H.\n",
    "\n",
    "    f = \"\"\"\"\"\"\"\"\n",
    "    return f\n",
    "\n",
    "def grad_f(x, H, y, sigma):\n",
    "    # Gradient: ∇f(x) = - sum_{i=1}^{n_r} y_i/sigma * (phi(u_i)/Q(u_i)) * h_i\n",
    "    \n",
    "    \"\"\"\"\"\"\"\"\n",
    "    grad = \"\"\"\"\"\"\n",
    "    return grad\n",
    "\n",
    "def hess_f(x, H, y, sigma):\n",
    "    # Hessian: Hess f(x) = sum_{i=1}^{n_r} [ phi(u_i)/(Q(u_i))^2 * (phi(u_i)-u_i*Q(u_i)) ] * h_i * h_i^T / sigma^2\n",
    "    u = \"\"\"\"\"\" \n",
    "    factors = \"\"\"\"\"\"\n",
    "    n_r = H.shape[0]\n",
    "    n_t = H.shape[1]\n",
    "    Hhess = np.zeros((n_t, n_t))\n",
    "    for i in range(n_r):\n",
    "        hi = H[i, :].reshape(-1, 1)\n",
    "        Hhess += factors[i] * (hi @ hi.T) / (sigma**2)\n",
    "    return Hhess"
   ]
  },
  {
   "cell_type": "markdown",
   "id": "b388abff",
   "metadata": {},
   "source": [
    "### Zero-forcing decoder"
   ]
  },
  {
   "cell_type": "code",
   "execution_count": 177,
   "id": "a99ed177",
   "metadata": {},
   "outputs": [],
   "source": [
    "def round_to_constellation(x, constellation):\n",
    "    \"\"\"\"\"\"\"\"\n",
    "    return x_hat\n",
    "\n",
    "def ZF_detector_onebit(y, H, sigma, constellation):\n",
    "    \"\"\"\n",
    "    One-bit ADC \"zero-forcing\" detection:\n",
    "      1. Find the stationary point x_S that minimizes f(x) using BFGS.\n",
    "      2. Then round x_S componentwise to the nearest constellation point.\n",
    "    \"\"\"\n",
    "    n_t = H.shape[1]\n",
    "    # Use a random initial guess (e.g., zero vector)\n",
    "    x0 = np.zeros(n_t)\n",
    "    res = minimize(f_func, x0, args=(H, y, sigma), method='BFGS', jac=grad_f, options={'gtol':1e-6, 'disp':False})\n",
    "    x_S = res.x\n",
    "    # Zero-forcing detection: round the stationary point to the constellation.\n",
    "    x_ZF = \"\"\"\"\"\"\n",
    "    return x_ZF, x_S, res.fun\n"
   ]
  },
  {
   "cell_type": "markdown",
   "id": "3cd94d0e",
   "metadata": {},
   "source": [
    "### Sphere decoding"
   ]
  },
  {
   "cell_type": "code",
   "execution_count": 178,
   "id": "2df9c060",
   "metadata": {},
   "outputs": [],
   "source": [
    "def sphere_decoding_onebit(y, H, sigma, constellation, rho=None):\n",
    "    \"\"\"\n",
    "    One-bit ADC sphere-decoding detection:\n",
    "      1. Find the stationary point x_S (e.g. minimizing f(x) via BFGS).\n",
    "      2. Compute the Hessian at x_S.\n",
    "      3. Form the quadratic approximation f(x) ≈ f(x_S) + ½ (x-x_S)^T Hess (x-x_S).\n",
    "         This is equivalent to solving: minimize ||A (x - x_S)||^2,\n",
    "         where A is the Cholesky factor of Hess (i.e., Hess = A A^T).\n",
    "      4. Use sphere decoding (for LS problems) to solve\n",
    "         min_{x in constellation^(n_t)} || A x - A x_S ||^2.\n",
    "      5. Return the decoded vector.\n",
    "    \"\"\"\n",
    "     \n",
    "    n_t = H.shape[1]\n",
    "   \n",
    "    # Find stationary point x_S, and the ZF point.\n",
    "    x_zf, x_S, f_val = \"\"\"\"\"\"\n",
    "    \n",
    "    # Compute Hessian at x_S.\n",
    "    Hess = hess_f(x_S, H, y, sigma)\n",
    "    # Compute Cholesky factor A: Hess = A A^T. (A is lower-triangular.)\n",
    "    try:\n",
    "        A = cholesky(Hess)\n",
    "    except np.linalg.LinAlgError:\n",
    "        # If Hess is not positive definite, add a small diagonal regularization.\n",
    "        A = cholesky(Hess + 1e-6*np.eye(n_t))\n",
    "    # Form the LS problem: minimize || A x - (A x_S) ||^2.\n",
    "    s = A @ x_S    \n",
    "      \n",
    "    # If no initial radius is provided, initialize using the ZF detector.\n",
    "    if rho is None:\n",
    "        rho = \"\"\"\"\"\"\n",
    "        \n",
    "    # Use sphere decoding for LS problem.\n",
    "    x_SD, metric = \"\"\"\"\"\"\n",
    "    \n",
    "    return x_SD, metric"
   ]
  },
  {
   "cell_type": "markdown",
   "id": "85964979",
   "metadata": {},
   "source": [
    "# Run the simulation"
   ]
  },
  {
   "cell_type": "markdown",
   "id": "39fab994",
   "metadata": {},
   "source": [
    "Run a similar simulation as in the conventional MIMO case"
   ]
  },
  {
   "cell_type": "code",
   "execution_count": null,
   "id": "00f917eb",
   "metadata": {},
   "outputs": [],
   "source": []
  }
 ],
 "metadata": {
  "kernelspec": {
   "display_name": "Python 3 (ipykernel)",
   "language": "python",
   "name": "python3"
  },
  "language_info": {
   "codemirror_mode": {
    "name": "ipython",
    "version": 3
   },
   "file_extension": ".py",
   "mimetype": "text/x-python",
   "name": "python",
   "nbconvert_exporter": "python",
   "pygments_lexer": "ipython3",
   "version": "3.8.6"
  }
 },
 "nbformat": 4,
 "nbformat_minor": 5
}
